{
 "cells": [
  {
   "cell_type": "markdown",
   "id": "336f4e1b",
   "metadata": {},
   "source": [
    "# Electronic Structure"
   ]
  },
  {
   "cell_type": "markdown",
   "id": "3ca268aa",
   "metadata": {},
   "source": [
    "### Imports"
   ]
  },
  {
   "cell_type": "code",
   "execution_count": 1,
   "id": "90a1924a",
   "metadata": {},
   "outputs": [],
   "source": [
    "import numpy as np\n",
    "import sys\n",
    "sys.path.append('..')\n",
    "from src.utils import get_wavevector_1d, calculate_phonon_frequency, \\\n",
    "                  construct_hamiltonian, compute_band_gap\n",
    "from src.simulation import simulate_energy_levels\n",
    "from visualize import plot_electronic_structure"
   ]
  },
  {
   "cell_type": "markdown",
   "id": "c6f48cdf",
   "metadata": {},
   "source": [
    "### Parameters"
   ]
  },
  {
   "cell_type": "code",
   "execution_count": 2,
   "id": "7eb7ca5d",
   "metadata": {},
   "outputs": [],
   "source": [
    "# Number of atoms\n",
    "N = 400\n",
    "# Number of samples for averaging\n",
    "num_samples = 100\n",
    "# Temperature (K)\n",
    "T = 300.0\n",
    "\n",
    "# Alternating hopping parameters\n",
    "# Differing t0 and t1 results in band gap\n",
    "t0 = 0.8                # Hopping parameter for bonds of type 0 (eV)\n",
    "t1 = 0.8                # Hopping parameter for bonds of type 1 (eV)"
   ]
  },
  {
   "cell_type": "markdown",
   "id": "d5e8585f",
   "metadata": {},
   "source": [
    "### Compute energy levels and band gaps"
   ]
  },
  {
   "cell_type": "code",
   "execution_count": null,
   "id": "06951c14-5412-4a27-b8f0-913919c433ba",
   "metadata": {},
   "outputs": [],
   "source": [
    "# Wavevector (q)\n",
    "q = get_wavevector_1d(N)\n",
    "\n",
    "# Phonon frequencies (omega)\n",
    "omega = calculate_phonon_frequency(N)\n",
    "\n",
    "\n",
    "# Hamiltonion at 0 K\n",
    "hamiltonian_0 = construct_hamiltonian(N, t0, t1, np.ones(N))\n",
    "# Get correspodning energy levels\n",
    "energies_0, _ = np.linalg.eigh(hamiltonian_0)\n",
    "\n",
    "sorted_energies_T = simulate_energy_levels(num_samples, N, omega, q, T, t0, t1)\n",
    "\n",
    "# Calculate band gap for each sample\n",
    "band_gaps = compute_band_gap(sorted_energies_T)\n",
    "average_band_gap = np.mean(band_gaps)\n",
    "std_band_gap = np.std(band_gaps)\n",
    "\n",
    "# Print the average band gap\n",
    "print(f\"Average Band Gap: {average_band_gap:.4f} eV ± {std_band_gap:.4f} eV\")"
   ]
  },
  {
   "cell_type": "markdown",
   "id": "40fca097",
   "metadata": {},
   "source": [
    "### Plot Results"
   ]
  },
  {
   "cell_type": "code",
   "execution_count": null,
   "id": "b9ade95d-9472-4604-acc0-a2ae924702e4",
   "metadata": {},
   "outputs": [],
   "source": [
    "plot_electronic_structure(sorted_energies_T, energies_0, q, T, num_samples)"
   ]
  }
 ],
 "metadata": {
  "kernelspec": {
   "display_name": "am215",
   "language": "python",
   "name": "python3"
  },
  "language_info": {
   "codemirror_mode": {
    "name": "ipython",
    "version": 3
   },
   "file_extension": ".py",
   "mimetype": "text/x-python",
   "name": "python",
   "nbconvert_exporter": "python",
   "pygments_lexer": "ipython3",
   "version": "3.11.9"
  }
 },
 "nbformat": 4,
 "nbformat_minor": 5
}
