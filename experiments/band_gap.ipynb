{
 "cells": [
  {
   "cell_type": "markdown",
   "id": "bc516e6a",
   "metadata": {},
   "source": [
    "# Temperature effect on band gap"
   ]
  },
  {
   "cell_type": "markdown",
   "id": "23a1f0e3",
   "metadata": {},
   "source": [
    "### Imports"
   ]
  },
  {
   "cell_type": "code",
   "execution_count": 1,
   "id": "f79ba058",
   "metadata": {},
   "outputs": [],
   "source": [
    "import numpy as np\n",
    "import sys\n",
    "sys.path.append('../')\n",
    "\n",
    "from src.constants import m, k0\n",
    "from src.utils import construct_hamiltonian, calculate_phonon_frequency, get_wavevector_1d\n",
    "from src.simulation import simulate_band_gaps\n",
    "from visualize import plot_band_gaps"
   ]
  },
  {
   "cell_type": "markdown",
   "id": "71646756",
   "metadata": {},
   "source": [
    "### Parameters"
   ]
  },
  {
   "cell_type": "code",
   "execution_count": 2,
   "id": "5f4583c0",
   "metadata": {},
   "outputs": [],
   "source": [
    "# Number of atoms\n",
    "N = 400\n",
    "\n",
    "# Number of samples for averaging. NEED HIGH NUMBERS for robustness\n",
    "num_samples = 100\n",
    "\n",
    "# Alternating hopping parameters\n",
    "t0 = 0.8              # Hopping parameter for bonds of type 0 (eV)\n",
    "t1 = 1.6              # Hopping parameter for bonds of type 1 (eV)\n",
    "\n",
    "beta = 3\n",
    "\n",
    "# Scale factor for displacement (meters to Ångströms)\n",
    "scale_factor = 1e10 \n",
    "\n",
    "# Temperature range (specific temperatures: 0 K, 300 K, 600 K, 900 K)\n",
    "temperatures = np.array([0, 300, 600, 900]) \n"
   ]
  },
  {
   "cell_type": "markdown",
   "id": "2b3b81d4",
   "metadata": {},
   "source": [
    "### Compute band gap for each temperature"
   ]
  },
  {
   "cell_type": "code",
   "execution_count": null,
   "id": "201adb4e-e421-4a76-ac8e-49a57333d3e4",
   "metadata": {},
   "outputs": [],
   "source": [
    "# Wavevector\n",
    "q = get_wavevector_1d(N)\n",
    "\n",
    "omega = calculate_phonon_frequency(N, m, k0)\n",
    "\n",
    "# Hamiltonion at 0 K\n",
    "hamiltonian_0 = construct_hamiltonian(N, t0, t1, np.ones(N))\n",
    "# Get correspodning energy levels\n",
    "energies_0, _ = np.linalg.eigh(hamiltonian_0)\n",
    "\n",
    "average_band_gaps, std_band_gaps = simulate_band_gaps(temperatures, num_samples, N, omega, q, t0, t1)\n",
    "\n",
    "# Convert results to NumPy arrays for easier handling\n",
    "average_band_gaps = np.array(average_band_gaps)\n",
    "std_band_gaps = np.array(std_band_gaps)"
   ]
  },
  {
   "cell_type": "markdown",
   "id": "5514ec12",
   "metadata": {},
   "source": [
    "### Plot band gap against temperature"
   ]
  },
  {
   "cell_type": "code",
   "execution_count": null,
   "id": "d746ba51-c011-44be-8838-d68fe8c08627",
   "metadata": {},
   "outputs": [],
   "source": [
    "plot_band_gaps(temperatures, average_band_gaps, std_band_gaps)\n"
   ]
  },
  {
   "cell_type": "code",
   "execution_count": null,
   "id": "d22c9c8c",
   "metadata": {},
   "outputs": [],
   "source": []
  }
 ],
 "metadata": {
  "kernelspec": {
   "display_name": "am215",
   "language": "python",
   "name": "python3"
  },
  "language_info": {
   "codemirror_mode": {
    "name": "ipython",
    "version": 3
   },
   "file_extension": ".py",
   "mimetype": "text/x-python",
   "name": "python",
   "nbconvert_exporter": "python",
   "pygments_lexer": "ipython3",
   "version": "3.11.9"
  }
 },
 "nbformat": 4,
 "nbformat_minor": 5
}
