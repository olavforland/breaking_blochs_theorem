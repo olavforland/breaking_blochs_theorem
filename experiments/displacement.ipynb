{
 "cells": [
  {
   "cell_type": "markdown",
   "id": "fb0344a4",
   "metadata": {},
   "source": [
    "# Temperature effects on displacement in atoms"
   ]
  },
  {
   "cell_type": "markdown",
   "id": "042da6d3",
   "metadata": {},
   "source": [
    "### Imports"
   ]
  },
  {
   "cell_type": "code",
   "execution_count": 1,
   "id": "57dae4f3",
   "metadata": {},
   "outputs": [],
   "source": [
    "import numpy as np\n",
    "import sys\n",
    "sys.path.append('..')\n",
    "\n",
    "from src.constants import m, k0\n",
    "from src.utils import construct_hamiltonian, calculate_phonon_frequency, get_wavevector_1d\n",
    "from src.simulation import simulate_displacement\n",
    "from visualize import plot_average_displacement, plot_displacement_histogram"
   ]
  },
  {
   "cell_type": "markdown",
   "id": "410a7c4b",
   "metadata": {},
   "source": [
    "### Parameters"
   ]
  },
  {
   "cell_type": "code",
   "execution_count": 2,
   "id": "4ba33ae5",
   "metadata": {},
   "outputs": [],
   "source": [
    "# Number of atoms\n",
    "N = 400\n",
    "\n",
    "# Number of samples for averaging. NEED HIGH NUMBERS for robustness\n",
    "num_samples = 1000\n",
    "\n",
    "# Alternating hopping parameters\n",
    "t0 = 0.8              # Hopping parameter for bonds of type 0 (eV)\n",
    "t1 = 1.6              # Hopping parameter for bonds of type 1 (eV)\n",
    "\n",
    "beta = 3\n",
    "\n",
    "# Scale factor for displacement (meters to Ångströms)\n",
    "scale_factor = 1e10 \n",
    "\n",
    "# Temperature range (specific temperatures: 0 K, 300 K, 600 K, 900 K)\n",
    "temperatures = np.array([0, 300, 600, 900]) \n"
   ]
  },
  {
   "cell_type": "markdown",
   "id": "1d99b7f4",
   "metadata": {},
   "source": [
    "### Compute average displacement for each temperature"
   ]
  },
  {
   "cell_type": "code",
   "execution_count": null,
   "id": "4d5b1ede",
   "metadata": {},
   "outputs": [],
   "source": [
    "# Wavevector\n",
    "q = get_wavevector_1d(N)\n",
    "\n",
    "omega = calculate_phonon_frequency(N, m, k0)\n",
    "\n",
    "# Hamiltonion at 0 K\n",
    "hamiltonian_0 = construct_hamiltonian(N, t0, t1, np.ones(N))\n",
    "# Get correspodning energy levels\n",
    "energies_0, _ = np.linalg.eigh(hamiltonian_0)\n",
    "\n",
    "average_msd_list, std_msd_list, displacements_dict = simulate_displacement(temperatures, num_samples, N, omega, q, histogram_temperature=300)\n"
   ]
  },
  {
   "cell_type": "markdown",
   "id": "e9c86151",
   "metadata": {},
   "source": [
    "### Plot average mean squared displacement as a function of temperature"
   ]
  },
  {
   "cell_type": "code",
   "execution_count": null,
   "id": "6113bdbe-8f2e-4c47-ab58-47b57f675e57",
   "metadata": {},
   "outputs": [],
   "source": [
    "plot_average_displacement(temperatures, average_msd_list, std_msd_list)"
   ]
  },
  {
   "cell_type": "markdown",
   "id": "5ddeadab",
   "metadata": {},
   "source": [
    "### Plot histogram of displacements"
   ]
  },
  {
   "cell_type": "code",
   "execution_count": null,
   "id": "c0ad8781",
   "metadata": {},
   "outputs": [],
   "source": [
    "# Select temperature for histogram (e.g., T=300 K)\n",
    "selected_T = 300\n",
    "# Check if displacement data for the selected temperature exists\n",
    "if selected_T in displacements_dict:\n",
    "    displacements = displacements_dict[selected_T] * 1e10  # Convert to Ångströms\n",
    "\n",
    "    plot_displacement_histogram(displacements, temperature=selected_T)\n",
    "\n",
    "else:\n",
    "    print(f\"No displacement data available for {selected_T} K.\")\n",
    "\n"
   ]
  }
 ],
 "metadata": {
  "kernelspec": {
   "display_name": "am215",
   "language": "python",
   "name": "python3"
  },
  "language_info": {
   "codemirror_mode": {
    "name": "ipython",
    "version": 3
   },
   "file_extension": ".py",
   "mimetype": "text/x-python",
   "name": "python",
   "nbconvert_exporter": "python",
   "pygments_lexer": "ipython3",
   "version": "3.11.9"
  }
 },
 "nbformat": 4,
 "nbformat_minor": 5
}
